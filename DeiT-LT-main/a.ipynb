{
 "cells": [
  {
   "cell_type": "code",
   "execution_count": 1,
   "metadata": {},
   "outputs": [
    {
     "name": "stdout",
     "output_type": "stream",
     "text": [
      "Thu Nov 21 15:50:43 2024       \n",
      "+---------------------------------------------------------------------------------------+\n",
      "| NVIDIA-SMI 535.146.02             Driver Version: 535.146.02   CUDA Version: 12.2     |\n",
      "|-----------------------------------------+----------------------+----------------------+\n",
      "| GPU  Name                 Persistence-M | Bus-Id        Disp.A | Volatile Uncorr. ECC |\n",
      "| Fan  Temp   Perf          Pwr:Usage/Cap |         Memory-Usage | GPU-Util  Compute M. |\n",
      "|                                         |                      |               MIG M. |\n",
      "|=========================================+======================+======================|\n",
      "|   0  NVIDIA GeForce RTX 2080 Ti     Off | 00000000:04:00.0 Off |                  N/A |\n",
      "| 18%   31C    P2              60W / 250W |    274MiB / 11264MiB |      1%      Default |\n",
      "|                                         |                      |                  N/A |\n",
      "+-----------------------------------------+----------------------+----------------------+\n",
      "|   1  NVIDIA GeForce RTX 2080 Ti     Off | 00000000:06:00.0 Off |                  N/A |\n",
      "| 18%   31C    P2              54W / 250W |    274MiB / 11264MiB |      2%      Default |\n",
      "|                                         |                      |                  N/A |\n",
      "+-----------------------------------------+----------------------+----------------------+\n",
      "|   2  NVIDIA GeForce RTX 2080 Ti     Off | 00000000:07:00.0 Off |                  N/A |\n",
      "| 16%   29C    P2              56W / 250W |    274MiB / 11264MiB |      2%      Default |\n",
      "|                                         |                      |                  N/A |\n",
      "+-----------------------------------------+----------------------+----------------------+\n",
      "|   3  NVIDIA GeForce RTX 2080 Ti     Off | 00000000:08:00.0 Off |                  N/A |\n",
      "| 17%   30C    P2              51W / 250W |    274MiB / 11264MiB |      2%      Default |\n",
      "|                                         |                      |                  N/A |\n",
      "+-----------------------------------------+----------------------+----------------------+\n",
      "|   4  NVIDIA GeForce RTX 2080 Ti     Off | 00000000:0C:00.0 Off |                  N/A |\n",
      "| 17%   27C    P8              13W / 250W |      6MiB / 11264MiB |      0%      Default |\n",
      "|                                         |                      |                  N/A |\n",
      "+-----------------------------------------+----------------------+----------------------+\n",
      "|   5  NVIDIA GeForce RTX 2080 Ti     Off | 00000000:0D:00.0 Off |                  N/A |\n",
      "| 18%   26C    P8              20W / 250W |      6MiB / 11264MiB |      0%      Default |\n",
      "|                                         |                      |                  N/A |\n",
      "+-----------------------------------------+----------------------+----------------------+\n",
      "|   6  NVIDIA GeForce RTX 2080 Ti     Off | 00000000:0E:00.0 Off |                  N/A |\n",
      "| 17%   28C    P8              18W / 250W |      6MiB / 11264MiB |      0%      Default |\n",
      "|                                         |                      |                  N/A |\n",
      "+-----------------------------------------+----------------------+----------------------+\n",
      "|   7  NVIDIA GeForce RTX 2080 Ti     Off | 00000000:0F:00.0 Off |                  N/A |\n",
      "| 17%   28C    P8               3W / 250W |      6MiB / 11264MiB |      0%      Default |\n",
      "|                                         |                      |                  N/A |\n",
      "+-----------------------------------------+----------------------+----------------------+\n",
      "                                                                                         \n",
      "+---------------------------------------------------------------------------------------+\n",
      "| Processes:                                                                            |\n",
      "|  GPU   GI   CI        PID   Type   Process name                            GPU Memory |\n",
      "|        ID   ID                                                             Usage      |\n",
      "|=======================================================================================|\n",
      "|    0   N/A  N/A      1956      G   /usr/lib/xorg/Xorg                            4MiB |\n",
      "|    0   N/A  N/A     24439      C   ...on/anaconda3/envs/deitlt/bin/python      266MiB |\n",
      "|    1   N/A  N/A      1956      G   /usr/lib/xorg/Xorg                            4MiB |\n",
      "|    1   N/A  N/A     24440      C   ...on/anaconda3/envs/deitlt/bin/python      266MiB |\n",
      "|    2   N/A  N/A      1956      G   /usr/lib/xorg/Xorg                            4MiB |\n",
      "|    2   N/A  N/A     24441      C   ...on/anaconda3/envs/deitlt/bin/python      266MiB |\n",
      "|    3   N/A  N/A      1956      G   /usr/lib/xorg/Xorg                            4MiB |\n",
      "|    3   N/A  N/A     24442      C   ...on/anaconda3/envs/deitlt/bin/python      266MiB |\n",
      "|    4   N/A  N/A      1956      G   /usr/lib/xorg/Xorg                            4MiB |\n",
      "|    5   N/A  N/A      1956      G   /usr/lib/xorg/Xorg                            4MiB |\n",
      "|    6   N/A  N/A      1956      G   /usr/lib/xorg/Xorg                            4MiB |\n",
      "|    7   N/A  N/A      1956      G   /usr/lib/xorg/Xorg                            4MiB |\n",
      "+---------------------------------------------------------------------------------------+\n"
     ]
    }
   ],
   "source": [
    "!nvidia-smi"
   ]
  }
 ],
 "metadata": {
  "kernelspec": {
   "display_name": "Python 3",
   "language": "python",
   "name": "python3"
  },
  "language_info": {
   "codemirror_mode": {
    "name": "ipython",
    "version": 3
   },
   "file_extension": ".py",
   "mimetype": "text/x-python",
   "name": "python",
   "nbconvert_exporter": "python",
   "pygments_lexer": "ipython3",
   "version": "3.7.9"
  }
 },
 "nbformat": 4,
 "nbformat_minor": 2
}
